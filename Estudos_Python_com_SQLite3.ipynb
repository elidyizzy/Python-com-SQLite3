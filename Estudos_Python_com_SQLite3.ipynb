{
  "nbformat": 4,
  "nbformat_minor": 0,
  "metadata": {
    "colab": {
      "name": "Estudos_Python com SQLite3.ipynb",
      "provenance": [],
      "authorship_tag": "ABX9TyMi+KsjFeestTZTjsNu1M0m",
      "include_colab_link": true
    },
    "kernelspec": {
      "name": "python3",
      "display_name": "Python 3"
    },
    "language_info": {
      "name": "python"
    }
  },
  "cells": [
    {
      "cell_type": "markdown",
      "metadata": {
        "id": "view-in-github",
        "colab_type": "text"
      },
      "source": [
        "<a href=\"https://colab.research.google.com/github/elidyizzy/Python-com-SQLite3/blob/main/Estudos_Python_com_SQLite3.ipynb\" target=\"_parent\"><img src=\"https://colab.research.google.com/assets/colab-badge.svg\" alt=\"Open In Colab\"/></a>"
      ]
    },
    {
      "cell_type": "markdown",
      "source": [
        "# **Python com SQLite3**"
      ],
      "metadata": {
        "id": "aWL-H13OO91i"
      }
    },
    {
      "cell_type": "markdown",
      "source": [
        "# **O que é SQL?**\n",
        "1.   SQL significa Linguagem de Consulta Estruturada\n",
        "2.   SQL permite acessar e manipular bancos de dados\n",
        "3. SQL tornou-se um padrão do American National Standards Institute (ANSI) em 1986, e da International Organization for Standardization (ISO) em 1987"
      ],
      "metadata": {
        "id": "k_vZ-pjLPCVN"
      }
    },
    {
      "cell_type": "markdown",
      "source": [
        "# **O que é o SQLite?**\n",
        "SQLite é um banco de dados SQL baseado em arquivo independente. O SQLite vem junto com o Python e pode ser usado em qualquer um dos seus aplicativos Python sem precisar instalar nenhum software adicional.<p>\n",
        "[Documentação](https://docs.python.org/3/library/sqlite3.html)"
      ],
      "metadata": {
        "id": "YGp-FA2HPJ7b"
      }
    },
    {
      "cell_type": "code",
      "execution_count": 1,
      "metadata": {
        "id": "2v2qxA4ROQml"
      },
      "outputs": [],
      "source": [
        "# Caso não esteja usando o Colab, instale na sua maquina\n",
        "# pip install sqlite3\n",
        "# Biblioteca\n",
        "import sqlite3"
      ]
    },
    {
      "cell_type": "code",
      "source": [
        "from platform import python_version\n",
        "\n",
        "print(python_version())"
      ],
      "metadata": {
        "colab": {
          "base_uri": "https://localhost:8080/"
        },
        "id": "9ZsqrCKgPBDf",
        "outputId": "c5a033a5-f69e-4077-ff76-da2f491acb97"
      },
      "execution_count": 2,
      "outputs": [
        {
          "output_type": "stream",
          "name": "stdout",
          "text": [
            "3.7.13\n"
          ]
        }
      ]
    },
    {
      "cell_type": "code",
      "source": [
        "# Criar um banco de dados\n",
        "Conexao = sqlite3.connect('Banco_Dados')"
      ],
      "metadata": {
        "id": "2gO3i_Zn00gP"
      },
      "execution_count": 3,
      "outputs": []
    },
    {
      "cell_type": "code",
      "source": [
        "# Apontar para o banco / com a variável cursor que eu vou apontar para o meu banco de dados\n",
        "Cursor = Conexao.cursor()"
      ],
      "metadata": {
        "id": "cgCzOM0B02qp"
      },
      "execution_count": 4,
      "outputs": []
    },
    {
      "cell_type": "code",
      "source": [
        "'''# CREATE TABLE => Vai criar uma tabela\n",
        "\n",
        "Cursor.execute(\n",
        "\n",
        "    'CREATE TABLE   Minha_Tabela (Data text, Nome text, Idade real)'\n",
        ")\n",
        "\n",
        "# Fazer um comit \n",
        "Conexao.commit()'''"
      ],
      "metadata": {
        "colab": {
          "base_uri": "https://localhost:8080/",
          "height": 53
        },
        "id": "V10kTEhy12Mi",
        "outputId": "95c5e2ff-1af6-42dd-9037-40f084e023a2"
      },
      "execution_count": 5,
      "outputs": [
        {
          "output_type": "execute_result",
          "data": {
            "text/plain": [
              "\"# CREATE TABLE => Vai criar uma tabela\\n\\nCursor.execute(\\n\\n    'CREATE TABLE   Minha_Tabela (Data text, Nome text, Idade real)'\\n)\\n\\n# Fazer um comit \\nConexao.commit()\""
            ],
            "application/vnd.google.colaboratory.intrinsic+json": {
              "type": "string"
            }
          },
          "metadata": {},
          "execution_count": 5
        }
      ]
    },
    {
      "cell_type": "code",
      "source": [
        "\"\"\"# INSERT INTO => Inserir valores na tabela\n",
        "\n",
        "Cursor.execute('INSERT INTO Minha_Tabela VALUES (\"03/05/2021\", \"Élidy\", \"38\")')\"\"\""
      ],
      "metadata": {
        "colab": {
          "base_uri": "https://localhost:8080/",
          "height": 35
        },
        "id": "8yiv8dw820NX",
        "outputId": "1878324a-057f-4262-f8e8-c1eea2212736"
      },
      "execution_count": 6,
      "outputs": [
        {
          "output_type": "execute_result",
          "data": {
            "text/plain": [
              "'# INSERT INTO => Inserir valores na tabela\\n\\nCursor.execute(\\'INSERT INTO Minha_Tabela VALUES (\"03/05/2021\", \"Élidy\", \"38\")\\')'"
            ],
            "application/vnd.google.colaboratory.intrinsic+json": {
              "type": "string"
            }
          },
          "metadata": {},
          "execution_count": 6
        }
      ]
    },
    {
      "cell_type": "code",
      "source": [
        "'''Cursor.execute('INSERT INTO Minha_Tabela VALUES (\"03/05/2021\", \"Luciene\", \"45\")')'''"
      ],
      "metadata": {
        "colab": {
          "base_uri": "https://localhost:8080/",
          "height": 35
        },
        "id": "-otlPaws3z5A",
        "outputId": "7544abb4-02f8-423d-aef0-c7bd77ac113e"
      },
      "execution_count": 7,
      "outputs": [
        {
          "output_type": "execute_result",
          "data": {
            "text/plain": [
              "'Cursor.execute(\\'INSERT INTO Minha_Tabela VALUES (\"03/05/2021\", \"Luciene\", \"45\")\\')'"
            ],
            "application/vnd.google.colaboratory.intrinsic+json": {
              "type": "string"
            }
          },
          "metadata": {},
          "execution_count": 7
        }
      ]
    },
    {
      "cell_type": "code",
      "source": [
        "# Importar Numeros aleatorios\n",
        "import random"
      ],
      "metadata": {
        "id": "v4CmWiKL4CVG"
      },
      "execution_count": 8,
      "outputs": []
    },
    {
      "cell_type": "code",
      "source": [
        "'''# Loop para inserir vários dados de uma vez\n",
        "for Loop in range(10):\n",
        "\n",
        "  # Gernado um numero de idade aleatorio\n",
        "  Numero = random.randint(30, 40)\n",
        "  \n",
        "  # Inserir informação na minha tabela\n",
        "  Cursor.execute( f' INSERT INTO Minha_Tabela VALUES ( \"05/01/2021\", \"Lucas\", {Numero} ) ')'''"
      ],
      "metadata": {
        "colab": {
          "base_uri": "https://localhost:8080/",
          "height": 53
        },
        "id": "O5182aus4Ghn",
        "outputId": "26c2a25b-b98d-4940-be66-b1e56b7b8116"
      },
      "execution_count": 9,
      "outputs": [
        {
          "output_type": "execute_result",
          "data": {
            "text/plain": [
              "'# Loop para inserir vários dados de uma vez\\nfor Loop in range(10):\\n\\n  # Gernado um numero de idade aleatorio\\n  Numero = random.randint(30, 40)\\n  \\n  # Inserir informação na minha tabela\\n  Cursor.execute( f\\' INSERT INTO Minha_Tabela VALUES ( \"05/01/2021\", \"Lucas\", {Numero} ) \\')'"
            ],
            "application/vnd.google.colaboratory.intrinsic+json": {
              "type": "string"
            }
          },
          "metadata": {},
          "execution_count": 9
        }
      ]
    },
    {
      "cell_type": "code",
      "source": [
        "# SELECT TABLE => Query de consulta - Todas as Colunas\n",
        "Consulta = Cursor.execute('SELECT * FROM Minha_Tabela').fetchall() # o fetchall lista todos os registros\n",
        "print(Consulta)"
      ],
      "metadata": {
        "colab": {
          "base_uri": "https://localhost:8080/"
        },
        "id": "Dlr3xhmD4mxE",
        "outputId": "66a655df-851a-4ecc-e525-e727dad3b1e3"
      },
      "execution_count": 10,
      "outputs": [
        {
          "output_type": "stream",
          "name": "stdout",
          "text": [
            "[('03/05/2021', 'Élidy', 38.0), ('03/05/2021', 'Luciene', 45.0), ('05/01/2021', 'Lucas', 40.0), ('05/01/2021', 'Lucas', 32.0), ('05/01/2021', 'Lucas', 32.0), ('05/01/2021', 'Lucas', 37.0), ('05/01/2021', 'Lucas', 34.0), ('05/01/2021', 'Lucas', 38.0), ('05/01/2021', 'Lucas', 36.0), ('05/01/2021', 'Lucas', 30.0), ('05/01/2021', 'Lucas', 34.0), ('05/01/2021', 'Lucas', 40.0), ('Fernando', 'Não Preenchido', 30.0), ('Gildete', 'Não Preenchido', 18.0), ('Rosalvo', 'Não Preenchido', 18.0), ('Juca', 'Não Preenchido', 18.0)]\n"
          ]
        }
      ]
    },
    {
      "cell_type": "code",
      "source": [
        "# Query de consulta - Colunas Especificas\n",
        "Consulta = Cursor.execute('SELECT Nome, Idade FROM Minha_Tabela').fetchall()\n",
        "\n",
        "# Loop para nelhorar a visualização da consulta\n",
        "for Linha in Consulta:\n",
        "  print( Linha )\n"
      ],
      "metadata": {
        "colab": {
          "base_uri": "https://localhost:8080/"
        },
        "id": "3sky7Yhs5vf_",
        "outputId": "15414b50-f4b2-4745-c60e-49bf5abf3c09"
      },
      "execution_count": 11,
      "outputs": [
        {
          "output_type": "stream",
          "name": "stdout",
          "text": [
            "('Élidy', 38.0)\n",
            "('Luciene', 45.0)\n",
            "('Lucas', 40.0)\n",
            "('Lucas', 32.0)\n",
            "('Lucas', 32.0)\n",
            "('Lucas', 37.0)\n",
            "('Lucas', 34.0)\n",
            "('Lucas', 38.0)\n",
            "('Lucas', 36.0)\n",
            "('Lucas', 30.0)\n",
            "('Lucas', 34.0)\n",
            "('Lucas', 40.0)\n",
            "('Não Preenchido', 30.0)\n",
            "('Não Preenchido', 18.0)\n",
            "('Não Preenchido', 18.0)\n",
            "('Não Preenchido', 18.0)\n"
          ]
        }
      ]
    },
    {
      "cell_type": "markdown",
      "source": [
        "# **- WHERE <p>**\n",
        "A WHERE cláusula é usada para filtrar registros. <p>\n",
        "*SELECT column1 FROM table_name WHERE condition;*\n"
      ],
      "metadata": {
        "id": "BxEC8ffF67Ji"
      }
    },
    {
      "cell_type": "markdown",
      "source": [
        "**Operadores**\n",
        "1. '='\tIgual\n",
        "2. '>'\tMaior\t\n",
        "3. '<'\tMenor\t\n",
        "4. '>='\tMaior ou Igual\t\n",
        "5. '<='\tMenor ou Igual\t\n",
        "6. '<>'\tDiferente\t\n",
        "7. 'BETWEEN'\tEntre\t\n",
        "8. 'LIKE'\tProcurar por padrão\t\n",
        "9. 'IN'\tPara especificar vários valores possíveis para uma coluna"
      ],
      "metadata": {
        "id": "dWyQ6Drf684o"
      }
    },
    {
      "cell_type": "code",
      "source": [
        "from sqlite3.dbapi2 import SQLITE_SELECT\n",
        "# Query usando o Igual \"=\"\n",
        "\n",
        "Consulta = Cursor.execute(\n",
        "'''    \n",
        "    SELECT * FROM Minha_Tabela\n",
        "    WHERE Nome = 'Luciene'\n",
        "    \n",
        "    '''\n",
        ").fetchall()\n",
        "\n",
        "print(Consulta)"
      ],
      "metadata": {
        "colab": {
          "base_uri": "https://localhost:8080/"
        },
        "id": "qm2AFuUv6rcg",
        "outputId": "c3aed105-1a89-4f99-cd21-2d0c3d60ee1a"
      },
      "execution_count": 12,
      "outputs": [
        {
          "output_type": "stream",
          "name": "stdout",
          "text": [
            "[('03/05/2021', 'Luciene', 45.0)]\n"
          ]
        }
      ]
    },
    {
      "cell_type": "code",
      "source": [
        "# Query usando o Igual \">\"\n",
        "\n",
        "Consulta = Cursor.execute(\n",
        "    '''\n",
        "    SELECT * FROM Minha_Tabela\n",
        "    WHERE Idade > 25\n",
        "    '''\n",
        ").fetchall()\n",
        "\n",
        "print(Consulta)"
      ],
      "metadata": {
        "colab": {
          "base_uri": "https://localhost:8080/"
        },
        "id": "9T9pCL9K8CTD",
        "outputId": "f8d881c5-66ed-44cd-e124-72c991e44ecb"
      },
      "execution_count": 13,
      "outputs": [
        {
          "output_type": "stream",
          "name": "stdout",
          "text": [
            "[('03/05/2021', 'Élidy', 38.0), ('03/05/2021', 'Luciene', 45.0), ('05/01/2021', 'Lucas', 40.0), ('05/01/2021', 'Lucas', 32.0), ('05/01/2021', 'Lucas', 32.0), ('05/01/2021', 'Lucas', 37.0), ('05/01/2021', 'Lucas', 34.0), ('05/01/2021', 'Lucas', 38.0), ('05/01/2021', 'Lucas', 36.0), ('05/01/2021', 'Lucas', 30.0), ('05/01/2021', 'Lucas', 34.0), ('05/01/2021', 'Lucas', 40.0), ('Fernando', 'Não Preenchido', 30.0)]\n"
          ]
        }
      ]
    },
    {
      "cell_type": "code",
      "source": [
        "# Query usando o Igual \">\"\n",
        "\n",
        "Consulta = Cursor.execute(\n",
        "    '''\n",
        "    SELECT * FROM Minha_Tabela\n",
        "    WHERE Idade < 33\n",
        "    '''\n",
        ").fetchall()\n",
        "\n",
        "print(Consulta)"
      ],
      "metadata": {
        "colab": {
          "base_uri": "https://localhost:8080/"
        },
        "id": "XGgbBRQQ8gB7",
        "outputId": "80c2fc3e-ba69-40ad-bb45-58c1694e8847"
      },
      "execution_count": 14,
      "outputs": [
        {
          "output_type": "stream",
          "name": "stdout",
          "text": [
            "[('05/01/2021', 'Lucas', 32.0), ('05/01/2021', 'Lucas', 32.0), ('05/01/2021', 'Lucas', 30.0), ('Fernando', 'Não Preenchido', 30.0), ('Gildete', 'Não Preenchido', 18.0), ('Rosalvo', 'Não Preenchido', 18.0), ('Juca', 'Não Preenchido', 18.0)]\n"
          ]
        }
      ]
    },
    {
      "cell_type": "code",
      "source": [
        "# Query usando o Igual \">=\"\n",
        "\n",
        "Consulta = Cursor.execute(\n",
        "    '''\n",
        "    SELECT * FROM Minha_Tabela\n",
        "    WHERE Idade >= 30\n",
        "    '''\n",
        ").fetchall()\n",
        "\n",
        "print(Consulta)"
      ],
      "metadata": {
        "colab": {
          "base_uri": "https://localhost:8080/"
        },
        "id": "lxzejDG99AI7",
        "outputId": "c7033b43-7c31-46b2-d21f-a79e5131c552"
      },
      "execution_count": 15,
      "outputs": [
        {
          "output_type": "stream",
          "name": "stdout",
          "text": [
            "[('03/05/2021', 'Élidy', 38.0), ('03/05/2021', 'Luciene', 45.0), ('05/01/2021', 'Lucas', 40.0), ('05/01/2021', 'Lucas', 32.0), ('05/01/2021', 'Lucas', 32.0), ('05/01/2021', 'Lucas', 37.0), ('05/01/2021', 'Lucas', 34.0), ('05/01/2021', 'Lucas', 38.0), ('05/01/2021', 'Lucas', 36.0), ('05/01/2021', 'Lucas', 30.0), ('05/01/2021', 'Lucas', 34.0), ('05/01/2021', 'Lucas', 40.0), ('Fernando', 'Não Preenchido', 30.0)]\n"
          ]
        }
      ]
    },
    {
      "cell_type": "code",
      "source": [
        "# Query usando o Igual \"<>\"\n",
        "\n",
        "Consulta =  Cursor.execute(\n",
        "    '''\n",
        "    SELECT * FROM Minha_Tabela\n",
        "    WHERE Nome <> \"Lucas\"\n",
        "    '''\n",
        ").fetchall()\n",
        "\n",
        "print(Consulta)"
      ],
      "metadata": {
        "colab": {
          "base_uri": "https://localhost:8080/"
        },
        "id": "qfzCVacH9cxP",
        "outputId": "d0f0fdac-7245-4d73-e205-e3f79710df1d"
      },
      "execution_count": 16,
      "outputs": [
        {
          "output_type": "stream",
          "name": "stdout",
          "text": [
            "[('03/05/2021', 'Élidy', 38.0), ('03/05/2021', 'Luciene', 45.0), ('Fernando', 'Não Preenchido', 30.0), ('Gildete', 'Não Preenchido', 18.0), ('Rosalvo', 'Não Preenchido', 18.0), ('Juca', 'Não Preenchido', 18.0)]\n"
          ]
        }
      ]
    },
    {
      "cell_type": "markdown",
      "source": [
        "# **5. - BETWEEN** \"Entre\""
      ],
      "metadata": {
        "id": "UVLK0P2X93IU"
      }
    },
    {
      "cell_type": "code",
      "source": [
        "# Query usando o BetWeen \"Entre X a Y\"\n",
        "Consulta = Cursor.execute(\n",
        "    '''\n",
        "    SELECT * FROM Minha_Tabela\n",
        "    WHERE Idade BETWEEN 33 AND 39\n",
        "    '''\n",
        ").fetchall()\n",
        "\n",
        "for Linha in Consulta:\n",
        "    print(Linha)"
      ],
      "metadata": {
        "colab": {
          "base_uri": "https://localhost:8080/"
        },
        "id": "nbZ_p-LF9w3P",
        "outputId": "18f902eb-8bf4-4a84-97bc-fa161846eca6"
      },
      "execution_count": 17,
      "outputs": [
        {
          "output_type": "stream",
          "name": "stdout",
          "text": [
            "('03/05/2021', 'Élidy', 38.0)\n",
            "('05/01/2021', 'Lucas', 37.0)\n",
            "('05/01/2021', 'Lucas', 34.0)\n",
            "('05/01/2021', 'Lucas', 38.0)\n",
            "('05/01/2021', 'Lucas', 36.0)\n",
            "('05/01/2021', 'Lucas', 34.0)\n"
          ]
        }
      ]
    },
    {
      "cell_type": "markdown",
      "source": [
        "# **- LIKE**\n",
        "O LIKE operador é usado em uma WHERE cláusula para procurar um padrão especificado em uma coluna. <p>\n",
        "\n",
        "Existem dois curingas frequentemente usados ​​em conjunto com o LIKEoperador:\n",
        "\n",
        " 1. O sinal de porcentagem (%) representa zero, um ou vários caracteres\n",
        " 2. O sinal de sublinhado (_) representa um único caractere\n",
        "\n",
        "![image.png](data:image/png;base64,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)"
      ],
      "metadata": {
        "id": "JsZMl6jQB4H0"
      }
    },
    {
      "cell_type": "code",
      "source": [
        "# Query procurando algo que começe \n",
        "Consulta = Cursor.execute(\n",
        "    '''\n",
        "    SELECT * FROM Minha_Tabela\n",
        "    WHERE Nome LIKE 'L%'\n",
        "    '''\n",
        ").fetchall()\n",
        "\n",
        "for Linha in Consulta:\n",
        "    print(Linha)"
      ],
      "metadata": {
        "colab": {
          "base_uri": "https://localhost:8080/"
        },
        "id": "RrHuhekfB5fh",
        "outputId": "6416db98-2ba4-412e-8a22-ae9495dea7d7"
      },
      "execution_count": 18,
      "outputs": [
        {
          "output_type": "stream",
          "name": "stdout",
          "text": [
            "('03/05/2021', 'Luciene', 45.0)\n",
            "('05/01/2021', 'Lucas', 40.0)\n",
            "('05/01/2021', 'Lucas', 32.0)\n",
            "('05/01/2021', 'Lucas', 32.0)\n",
            "('05/01/2021', 'Lucas', 37.0)\n",
            "('05/01/2021', 'Lucas', 34.0)\n",
            "('05/01/2021', 'Lucas', 38.0)\n",
            "('05/01/2021', 'Lucas', 36.0)\n",
            "('05/01/2021', 'Lucas', 30.0)\n",
            "('05/01/2021', 'Lucas', 34.0)\n",
            "('05/01/2021', 'Lucas', 40.0)\n"
          ]
        }
      ]
    },
    {
      "cell_type": "code",
      "source": [
        "# Query procurando algo que termine com\n",
        "Consulta = Cursor.execute(\n",
        "    '''\n",
        "    SELECT * FROM Minha_Tabela\n",
        "    WHERE Nome LIKE '%e'\n",
        "    '''\n",
        ").fetchall()\n",
        "\n",
        "for Linha in Consulta:\n",
        "    print(Linha)"
      ],
      "metadata": {
        "colab": {
          "base_uri": "https://localhost:8080/"
        },
        "id": "k_J3V2FtDlrp",
        "outputId": "ae144601-556b-424d-e3b9-59167baccab9"
      },
      "execution_count": 19,
      "outputs": [
        {
          "output_type": "stream",
          "name": "stdout",
          "text": [
            "('03/05/2021', 'Luciene', 45.0)\n"
          ]
        }
      ]
    },
    {
      "cell_type": "code",
      "source": [
        "# Query procurando algo que tenha o padrão\n",
        "Consulta = Cursor.execute(\n",
        "    '''\n",
        "    SELECT * FROM Minha_Tabela\n",
        "    WHERE Nome LIKE '%ene%'\n",
        "    '''\n",
        ").fetchall()\n",
        "\n",
        "for Linha in Consulta:\n",
        "    print(Linha)"
      ],
      "metadata": {
        "colab": {
          "base_uri": "https://localhost:8080/"
        },
        "id": "H4FyoOPxENoU",
        "outputId": "fb813479-a907-4f51-9b2d-4f53b3622828"
      },
      "execution_count": 20,
      "outputs": [
        {
          "output_type": "stream",
          "name": "stdout",
          "text": [
            "('03/05/2021', 'Luciene', 45.0)\n"
          ]
        }
      ]
    },
    {
      "cell_type": "markdown",
      "source": [
        "# **- IN**\n",
        "O IN operador permite especificar vários valores em uma WHEREcláusula. <p>\n",
        "O IN operador é um atalho para várias ORcondições."
      ],
      "metadata": {
        "id": "U80HaUdKEyUd"
      }
    },
    {
      "cell_type": "code",
      "source": [
        "# Query procurando algo com o IN => Retorna bem específico\n",
        "Consulta = Cursor.execute(\n",
        "    '''\n",
        "    SELECT * FROM Minha_Tabela\n",
        "    WHERE Idade IN (31,33,39)\n",
        "    '''\n",
        ").fetchall()\n",
        "\n",
        "for Linha in Consulta:\n",
        "    print(Linha)"
      ],
      "metadata": {
        "id": "XoO3Q87rEuT2"
      },
      "execution_count": 21,
      "outputs": []
    },
    {
      "cell_type": "markdown",
      "source": [
        "# **- AND, OR, NOT <p>**\n",
        "A WHERE cláusula pode ser combinada com os operadores AND, OR e NOT\n",
        "\n",
        "Os operadores AND e OR são usados ​​para filtrar registros com base em mais de uma condição:\n",
        "\n",
        "1. O AND operador exibe um registro se todas as condições separadas por AND forem TRUE.\n",
        "2. O OR operador exibe um registro se alguma das condições separadas por OR for TRUE.\n",
        "3. O NOT operador exibe um registro se a(s) condição(ões) NÃO for VERDADEIRA."
      ],
      "metadata": {
        "id": "YPEXAMn9F6yx"
      }
    },
    {
      "cell_type": "code",
      "source": [
        "# AND (Se ambas forem verdadeiras)\n",
        "Consulta = Cursor.execute(\n",
        "    '''\n",
        "    SELECT * FROM Minha_Tabela\n",
        "    WHERE Idade = 33 AND Nome = 'Lucas'\n",
        "    '''\n",
        ").fetchall()\n",
        "\n",
        "for Linha in Consulta:\n",
        "    print(Linha)"
      ],
      "metadata": {
        "id": "UeSysMQVFsOX"
      },
      "execution_count": 22,
      "outputs": []
    },
    {
      "cell_type": "code",
      "source": [
        "# OR (Se uma for verdadeiras)\n",
        "\n",
        "Consulta = Cursor.execute(\n",
        "    '''\n",
        "    SELECT * FROM Minha_Tabela\n",
        "    WHERE Idade = 39 OR Nome = 'Luciene'\n",
        "    '''\n",
        ").fetchall()\n",
        "\n",
        "for Linha in Consulta:\n",
        "    print(Linha)"
      ],
      "metadata": {
        "colab": {
          "base_uri": "https://localhost:8080/"
        },
        "id": "Jw3I8qZiGIho",
        "outputId": "2ba1cbd8-f211-4a7d-ad59-06493b67c27c"
      },
      "execution_count": 23,
      "outputs": [
        {
          "output_type": "stream",
          "name": "stdout",
          "text": [
            "('03/05/2021', 'Luciene', 45.0)\n"
          ]
        }
      ]
    },
    {
      "cell_type": "code",
      "source": [
        "# NOT (Quando não for verdadeira)\n",
        "Consulta = Cursor.execute(\n",
        "    '''\n",
        "    SELECT * FROM Minha_Tabela\n",
        "    WHERE NOT Nome = 'Lucas'\n",
        "    '''\n",
        ").fetchall()\n",
        "\n",
        "for Linha in Consulta:\n",
        "    print(Linha)"
      ],
      "metadata": {
        "colab": {
          "base_uri": "https://localhost:8080/"
        },
        "id": "n3Ig9pi8GOU2",
        "outputId": "2cbd44fd-043b-4195-ed9e-72250edc7884"
      },
      "execution_count": 24,
      "outputs": [
        {
          "output_type": "stream",
          "name": "stdout",
          "text": [
            "('03/05/2021', 'Élidy', 38.0)\n",
            "('03/05/2021', 'Luciene', 45.0)\n",
            "('Fernando', 'Não Preenchido', 30.0)\n",
            "('Gildete', 'Não Preenchido', 18.0)\n",
            "('Rosalvo', 'Não Preenchido', 18.0)\n",
            "('Juca', 'Não Preenchido', 18.0)\n"
          ]
        }
      ]
    },
    {
      "cell_type": "code",
      "source": [
        "# Combinação de Parametros AND OR NOT\n",
        "Consulta = Cursor.execute(\n",
        "    '''\n",
        "    SELECT * FROM Minha_Tabela\n",
        "    WHERE Nome = 'Lucas' AND (Idade > 30 OR Idade <38 ) AND NOT Idade = 32\n",
        "    '''\n",
        ").fetchall()\n",
        "\n",
        "for Linha in Consulta:\n",
        "    print(Linha)"
      ],
      "metadata": {
        "colab": {
          "base_uri": "https://localhost:8080/"
        },
        "id": "9Cp-Q1U4IL39",
        "outputId": "ed206a6b-721a-471d-f86a-716e86febc95"
      },
      "execution_count": 25,
      "outputs": [
        {
          "output_type": "stream",
          "name": "stdout",
          "text": [
            "('05/01/2021', 'Lucas', 40.0)\n",
            "('05/01/2021', 'Lucas', 37.0)\n",
            "('05/01/2021', 'Lucas', 34.0)\n",
            "('05/01/2021', 'Lucas', 38.0)\n",
            "('05/01/2021', 'Lucas', 36.0)\n",
            "('05/01/2021', 'Lucas', 30.0)\n",
            "('05/01/2021', 'Lucas', 34.0)\n",
            "('05/01/2021', 'Lucas', 40.0)\n"
          ]
        }
      ]
    },
    {
      "cell_type": "markdown",
      "source": [
        "# **ORDER BY <p>**\n",
        "A ORDER BY é usada para classificar o conjunto de resultados em ordem crescente ou decrescente.\n",
        "\n",
        "A instrução ORDER BY classifica os registros em ordem crescente por padrão. <p>Para classificar os registros em ordem decrescente, use a palavra DESC."
      ],
      "metadata": {
        "id": "xnk0o072JiNl"
      }
    },
    {
      "cell_type": "code",
      "source": [
        "# Ordenando os valores\n",
        "Consulta = Cursor.execute(\n",
        "    '''\n",
        "    SELECT * FROM Minha_Tabela\n",
        "    ORDER BY Idade\n",
        "    '''\n",
        ").fetchall()\n",
        "\n",
        "for Linha in Consulta:\n",
        "    print(Linha)"
      ],
      "metadata": {
        "colab": {
          "base_uri": "https://localhost:8080/"
        },
        "id": "1EOqczkkJoHH",
        "outputId": "672c74a2-e054-4599-e338-5c441136dd5a"
      },
      "execution_count": 26,
      "outputs": [
        {
          "output_type": "stream",
          "name": "stdout",
          "text": [
            "('Gildete', 'Não Preenchido', 18.0)\n",
            "('Rosalvo', 'Não Preenchido', 18.0)\n",
            "('Juca', 'Não Preenchido', 18.0)\n",
            "('05/01/2021', 'Lucas', 30.0)\n",
            "('Fernando', 'Não Preenchido', 30.0)\n",
            "('05/01/2021', 'Lucas', 32.0)\n",
            "('05/01/2021', 'Lucas', 32.0)\n",
            "('05/01/2021', 'Lucas', 34.0)\n",
            "('05/01/2021', 'Lucas', 34.0)\n",
            "('05/01/2021', 'Lucas', 36.0)\n",
            "('05/01/2021', 'Lucas', 37.0)\n",
            "('03/05/2021', 'Élidy', 38.0)\n",
            "('05/01/2021', 'Lucas', 38.0)\n",
            "('05/01/2021', 'Lucas', 40.0)\n",
            "('05/01/2021', 'Lucas', 40.0)\n",
            "('03/05/2021', 'Luciene', 45.0)\n"
          ]
        }
      ]
    },
    {
      "cell_type": "code",
      "source": [
        "# Ordenando por 2 critérios : Idade e Nome\n",
        "Consulta = Cursor.execute(\n",
        "    '''\n",
        "    SELECT * FROM Minha_tabela\n",
        "    ORDER BY Idade,Nome\n",
        "    '''\n",
        ").fetchall()\n",
        "\n",
        "for Linha in Consulta:\n",
        "    print(Linha)"
      ],
      "metadata": {
        "colab": {
          "base_uri": "https://localhost:8080/"
        },
        "id": "cu0x8LaIKUFk",
        "outputId": "94695ef6-9da2-4cc0-b15b-c102daa3c7ca"
      },
      "execution_count": 27,
      "outputs": [
        {
          "output_type": "stream",
          "name": "stdout",
          "text": [
            "('Gildete', 'Não Preenchido', 18.0)\n",
            "('Rosalvo', 'Não Preenchido', 18.0)\n",
            "('Juca', 'Não Preenchido', 18.0)\n",
            "('05/01/2021', 'Lucas', 30.0)\n",
            "('Fernando', 'Não Preenchido', 30.0)\n",
            "('05/01/2021', 'Lucas', 32.0)\n",
            "('05/01/2021', 'Lucas', 32.0)\n",
            "('05/01/2021', 'Lucas', 34.0)\n",
            "('05/01/2021', 'Lucas', 34.0)\n",
            "('05/01/2021', 'Lucas', 36.0)\n",
            "('05/01/2021', 'Lucas', 37.0)\n",
            "('05/01/2021', 'Lucas', 38.0)\n",
            "('03/05/2021', 'Élidy', 38.0)\n",
            "('05/01/2021', 'Lucas', 40.0)\n",
            "('05/01/2021', 'Lucas', 40.0)\n",
            "('03/05/2021', 'Luciene', 45.0)\n"
          ]
        }
      ]
    },
    {
      "cell_type": "markdown",
      "source": [
        "# **NULL VALUES <p>**\n",
        "Um campo com valor NULL é um campo sem valor.\n",
        "\n",
        "Se um campo em uma tabela for opcional, é possível inserir um novo registro ou atualizar um registro sem adicionar um valor a esse campo. Em seguida, o campo será salvo com um valor NULL.<p>\n",
        "\n",
        "Não é possível testar valores **NULL** com operadores de comparação, como =, < ou <>.\n",
        "<p>\n",
        "Teremos que usar os operadores IS NULL e em vez disso IS NOT NULL"
      ],
      "metadata": {
        "id": "genAs7U_LFdm"
      }
    },
    {
      "cell_type": "code",
      "source": [
        "'''# Preenchendo valores nulos\n",
        "Cursor.execute('INSERT INTO Minha_Tabela VALUES (\"Fernando\", null, 30 ) ')\n",
        "Cursor.execute('INSERT INTO Minha_Tabela VALUES (\"Gildete\", null, null ) ')\n",
        "Cursor.execute('INSERT INTO Minha_Tabela VALUES (\"Rosalvo\", null, null ) ')\n",
        "Cursor.execute('INSERT INTO Minha_Tabela VALUES (\"Juca\", null, null ) ')'''"
      ],
      "metadata": {
        "colab": {
          "base_uri": "https://localhost:8080/",
          "height": 70
        },
        "id": "jXgoqAlGLHlQ",
        "outputId": "e56480e3-b6bd-4d75-fffe-56248ec633d5"
      },
      "execution_count": 28,
      "outputs": [
        {
          "output_type": "execute_result",
          "data": {
            "text/plain": [
              "'# Preenchendo valores nulos\\nCursor.execute(\\'INSERT INTO Minha_Tabela VALUES (\"Fernando\", null, 30 ) \\')\\nCursor.execute(\\'INSERT INTO Minha_Tabela VALUES (\"Gildete\", null, null ) \\')\\nCursor.execute(\\'INSERT INTO Minha_Tabela VALUES (\"Rosalvo\", null, null ) \\')\\nCursor.execute(\\'INSERT INTO Minha_Tabela VALUES (\"Juca\", null, null ) \\')'"
            ],
            "application/vnd.google.colaboratory.intrinsic+json": {
              "type": "string"
            }
          },
          "metadata": {},
          "execution_count": 28
        }
      ]
    },
    {
      "cell_type": "code",
      "source": [
        "# Verificando valores nulos\n",
        "Consulta = Cursor.execute(\n",
        "    '''\n",
        "    SELECT * FROM Minha_Tabela\n",
        "    WHERE Nome IS NULL\n",
        "    '''\n",
        ").fetchall()\n",
        "for Linha in Consulta:\n",
        "    print(Linha)"
      ],
      "metadata": {
        "id": "3_MZ3pC-LfOI"
      },
      "execution_count": 29,
      "outputs": []
    },
    {
      "cell_type": "code",
      "source": [
        "# Verificando valores não nulos\n",
        "Consulta = Cursor.execute(\n",
        "    '''\n",
        "    SELECT * FROM Minha_Tabela\n",
        "    WHERE Nome IS NOT NULL\n",
        "    '''\n",
        ").fetchall()\n",
        "for Linha in Consulta:\n",
        "    print(Linha)"
      ],
      "metadata": {
        "colab": {
          "base_uri": "https://localhost:8080/"
        },
        "id": "QyyWwpWXMPEK",
        "outputId": "149f4dcb-9541-45b9-d447-607f0b8a4d92"
      },
      "execution_count": 30,
      "outputs": [
        {
          "output_type": "stream",
          "name": "stdout",
          "text": [
            "('03/05/2021', 'Élidy', 38.0)\n",
            "('03/05/2021', 'Luciene', 45.0)\n",
            "('05/01/2021', 'Lucas', 40.0)\n",
            "('05/01/2021', 'Lucas', 32.0)\n",
            "('05/01/2021', 'Lucas', 32.0)\n",
            "('05/01/2021', 'Lucas', 37.0)\n",
            "('05/01/2021', 'Lucas', 34.0)\n",
            "('05/01/2021', 'Lucas', 38.0)\n",
            "('05/01/2021', 'Lucas', 36.0)\n",
            "('05/01/2021', 'Lucas', 30.0)\n",
            "('05/01/2021', 'Lucas', 34.0)\n",
            "('05/01/2021', 'Lucas', 40.0)\n",
            "('Fernando', 'Não Preenchido', 30.0)\n",
            "('Gildete', 'Não Preenchido', 18.0)\n",
            "('Rosalvo', 'Não Preenchido', 18.0)\n",
            "('Juca', 'Não Preenchido', 18.0)\n"
          ]
        }
      ]
    },
    {
      "cell_type": "markdown",
      "source": [
        "# **SQL UPDATE <p>**\n",
        "A UPDATE instrução é usada para modificar os registros existentes em uma tabela."
      ],
      "metadata": {
        "id": "FiuclstlMxZc"
      }
    },
    {
      "cell_type": "code",
      "source": [
        "# Modificar um valor\n",
        "Consulta = Cursor.execute(\n",
        "    '''\n",
        "    UPDATE Minha_Tabela\n",
        "    SET Nome = \"Não Preenchido\"\n",
        "    WHERE Nome IS NULL\n",
        "    '''\n",
        ").fetchall()\n",
        "\n",
        "for Linha in Consulta:\n",
        "    print(Linha)"
      ],
      "metadata": {
        "id": "H5zQG3__MuGa"
      },
      "execution_count": 31,
      "outputs": []
    },
    {
      "cell_type": "code",
      "source": [
        "Consulta = Cursor.execute(\n",
        "    '''\n",
        "    UPDATE Minha_Tabela\n",
        "    SET Idade = 18\n",
        "    WHERE Idade IS NULL\n",
        "    '''\n",
        ").fetchall()\n",
        "\n",
        "for Linha in Consulta:\n",
        "    print(Linha)"
      ],
      "metadata": {
        "id": "o4mEzmLfOI3O"
      },
      "execution_count": 32,
      "outputs": []
    },
    {
      "cell_type": "code",
      "source": [
        "# Verificando valores não nulos\n",
        "Consulta = Cursor.execute(\n",
        "    '''\n",
        "    SELECT * FROM Minha_Tabela\n",
        "    WHERE Nome IS NOT NULL\n",
        "    '''\n",
        ").fetchall()\n",
        "for Linha in Consulta:\n",
        "    print(Linha)"
      ],
      "metadata": {
        "colab": {
          "base_uri": "https://localhost:8080/"
        },
        "id": "Fuz6qvV0O-0G",
        "outputId": "84baacd5-6a99-4bf1-8177-c4bef7b19b73"
      },
      "execution_count": 33,
      "outputs": [
        {
          "output_type": "stream",
          "name": "stdout",
          "text": [
            "('03/05/2021', 'Élidy', 38.0)\n",
            "('03/05/2021', 'Luciene', 45.0)\n",
            "('05/01/2021', 'Lucas', 40.0)\n",
            "('05/01/2021', 'Lucas', 32.0)\n",
            "('05/01/2021', 'Lucas', 32.0)\n",
            "('05/01/2021', 'Lucas', 37.0)\n",
            "('05/01/2021', 'Lucas', 34.0)\n",
            "('05/01/2021', 'Lucas', 38.0)\n",
            "('05/01/2021', 'Lucas', 36.0)\n",
            "('05/01/2021', 'Lucas', 30.0)\n",
            "('05/01/2021', 'Lucas', 34.0)\n",
            "('05/01/2021', 'Lucas', 40.0)\n",
            "('Fernando', 'Não Preenchido', 30.0)\n",
            "('Gildete', 'Não Preenchido', 18.0)\n",
            "('Rosalvo', 'Não Preenchido', 18.0)\n",
            "('Juca', 'Não Preenchido', 18.0)\n"
          ]
        }
      ]
    },
    {
      "cell_type": "markdown",
      "source": [
        "# **DELETE <p>**\n",
        "A DELETE instrução é usada para excluir registros existentes em uma tabela."
      ],
      "metadata": {
        "id": "0hepNJWOPDch"
      }
    },
    {
      "cell_type": "code",
      "source": [
        "'''Consulta = Cursor.execute(\n",
        "    ''' \n",
        "    DELETE from Minha_Tabela\n",
        "    WHERE Nome = 'Lucas' AND Idade = 15\n",
        "    '''\n",
        ").fetchall()'''"
      ],
      "metadata": {
        "id": "WVUCfeHxPSWQ"
      },
      "execution_count": null,
      "outputs": []
    },
    {
      "cell_type": "markdown",
      "source": [
        "*Consultando minha Tabela Inteira*"
      ],
      "metadata": {
        "id": "p_gVzLltPett"
      }
    },
    {
      "cell_type": "code",
      "source": [
        "# Verificando\n",
        "Consulta = Cursor.execute(\n",
        "    ''' \n",
        "    SELECT * FROM Minha_Tabela\n",
        "    '''\n",
        ").fetchall()\n",
        "\n",
        "for Linha in Consulta:\n",
        "  print( Linha )"
      ],
      "metadata": {
        "colab": {
          "base_uri": "https://localhost:8080/"
        },
        "id": "DJNy1TCJPiP8",
        "outputId": "f40a9526-c426-4ea4-fdea-5a243b4235ca"
      },
      "execution_count": 36,
      "outputs": [
        {
          "output_type": "stream",
          "name": "stdout",
          "text": [
            "('03/05/2021', 'Élidy', 38.0)\n",
            "('03/05/2021', 'Luciene', 45.0)\n",
            "('05/01/2021', 'Lucas', 40.0)\n",
            "('05/01/2021', 'Lucas', 32.0)\n",
            "('05/01/2021', 'Lucas', 32.0)\n",
            "('05/01/2021', 'Lucas', 37.0)\n",
            "('05/01/2021', 'Lucas', 34.0)\n",
            "('05/01/2021', 'Lucas', 38.0)\n",
            "('05/01/2021', 'Lucas', 36.0)\n",
            "('05/01/2021', 'Lucas', 30.0)\n",
            "('05/01/2021', 'Lucas', 34.0)\n",
            "('05/01/2021', 'Lucas', 40.0)\n",
            "('Fernando', 'Não Preenchido', 30.0)\n",
            "('Gildete', 'Não Preenchido', 18.0)\n",
            "('Rosalvo', 'Não Preenchido', 18.0)\n",
            "('Juca', 'Não Preenchido', 18.0)\n"
          ]
        }
      ]
    },
    {
      "cell_type": "markdown",
      "source": [
        "# **SELECT TOP <p>**\n",
        "A SELECT TOP cláusula é usada para especificar o número de registros a serem retornados.\n",
        "\n",
        "A SELECT TOP cláusula é útil em tabelas grandes com milhares de registros. Retornar um grande número de registros pode afetar o desempenho.."
      ],
      "metadata": {
        "id": "DaX98baLPk8q"
      }
    },
    {
      "cell_type": "code",
      "source": [
        "# Verificando as priemiras linhas\n",
        "Consulta = Cursor.execute(\n",
        "    ''' \n",
        "    SELECT * FROM Minha_Tabela\n",
        "    LIMIT 5\n",
        "    '''\n",
        ").fetchall()\n",
        "\n",
        "# Mostrando o retorno\n",
        "\n",
        "for Linhas in Consulta:\n",
        "    print(Linhas)"
      ],
      "metadata": {
        "colab": {
          "base_uri": "https://localhost:8080/"
        },
        "id": "dhzAtBSHPpEh",
        "outputId": "2048beb9-acbb-4c01-d1a9-ba7ff8b05014"
      },
      "execution_count": 37,
      "outputs": [
        {
          "output_type": "stream",
          "name": "stdout",
          "text": [
            "('03/05/2021', 'Élidy', 38.0)\n",
            "('03/05/2021', 'Luciene', 45.0)\n",
            "('05/01/2021', 'Lucas', 40.0)\n",
            "('05/01/2021', 'Lucas', 32.0)\n",
            "('05/01/2021', 'Lucas', 32.0)\n"
          ]
        }
      ]
    },
    {
      "cell_type": "markdown",
      "source": [
        "# **MIN e MAX <p>**\n",
        "A MIN()função retorna o menor valor da coluna selecionada.<p>\n",
        "\n",
        "A MAX()função retorna o maior valor da coluna selecionada."
      ],
      "metadata": {
        "id": "5fPkZ90AiORh"
      }
    },
    {
      "cell_type": "code",
      "source": [
        "# Verificando\n",
        "Consulta = Cursor.execute(\n",
        "    ''' \n",
        "    SELECT MIN (Idade) FROM Minha_Tabela\n",
        "    '''\n",
        ").fetchall()\n",
        "\n",
        "# Mostrando o retorno\n",
        "print( Consulta )"
      ],
      "metadata": {
        "colab": {
          "base_uri": "https://localhost:8080/"
        },
        "id": "LDP0_AQmiKnd",
        "outputId": "4b46d008-dd16-4e5f-cda7-211cc983acab"
      },
      "execution_count": 38,
      "outputs": [
        {
          "output_type": "stream",
          "name": "stdout",
          "text": [
            "[(18.0,)]\n"
          ]
        }
      ]
    },
    {
      "cell_type": "code",
      "source": [
        "# Verificando\n",
        "Consulta = Cursor.execute(\n",
        "    ''' \n",
        "    SELECT MAX (Idade) FROM Minha_Tabela\n",
        "    '''\n",
        ").fetchall()\n",
        "\n",
        "# Mostrando o retorno\n",
        "print( Consulta )"
      ],
      "metadata": {
        "colab": {
          "base_uri": "https://localhost:8080/"
        },
        "id": "2QWlfGdBiZxV",
        "outputId": "ace8974f-727b-4260-9cf4-e2248226face"
      },
      "execution_count": 39,
      "outputs": [
        {
          "output_type": "stream",
          "name": "stdout",
          "text": [
            "[(45.0,)]\n"
          ]
        }
      ]
    },
    {
      "cell_type": "markdown",
      "source": [
        "# **COUNT, AVG e SUM <p>**\n",
        "A COUNT()função retorna o número de linhas que corresponde a um critério especificado.<p>\n",
        "A AVG()função retorna o valor médio de uma coluna numérica. <p>\n",
        "A SUM()função retorna a soma total de uma coluna numérica. "
      ],
      "metadata": {
        "id": "cp-55RO0iea9"
      }
    },
    {
      "cell_type": "code",
      "source": [
        "# COUNT => Conta a quantidade de registros\n",
        "Consulta = Cursor.execute(\n",
        "    '''\n",
        "     SELECT COUNT (Idade) FROM Minha_Tabela\n",
        "    '''\n",
        ").fetchall()\n",
        "for linhas in Consulta:\n",
        "    print(Consulta)"
      ],
      "metadata": {
        "colab": {
          "base_uri": "https://localhost:8080/"
        },
        "id": "V5p2Ta1LihAO",
        "outputId": "a610bd4c-003e-4fe2-f982-834ae515031f"
      },
      "execution_count": 40,
      "outputs": [
        {
          "output_type": "stream",
          "name": "stdout",
          "text": [
            "[(16,)]\n"
          ]
        }
      ]
    },
    {
      "cell_type": "code",
      "source": [
        "# AVG => Retorna a média da coluna\n",
        "Consulta = Cursor.execute(\n",
        "    '''\n",
        "    SELECT AVG (Idade) FROM Minha_tabela\n",
        "    '''\n",
        ").fetchall()\n",
        "\n",
        "for Linhas in Consulta:\n",
        "    print(Linhas)"
      ],
      "metadata": {
        "colab": {
          "base_uri": "https://localhost:8080/"
        },
        "id": "nrOD9al6kKga",
        "outputId": "785ae5ed-d572-4794-ad51-c585ea874c76"
      },
      "execution_count": 41,
      "outputs": [
        {
          "output_type": "stream",
          "name": "stdout",
          "text": [
            "(32.5,)\n"
          ]
        }
      ]
    },
    {
      "cell_type": "code",
      "source": [
        "# SUM => retorna a soma da coluna\n",
        "Consulta = Cursor.execute(\n",
        "    '''\n",
        "    SELECT SUm (Idade) FROm Minha_Tabela\n",
        "\n",
        "    '''\n",
        ").fetchall()\n",
        "\n",
        "for Linhas in Consulta:\n",
        "    print(Linhas)"
      ],
      "metadata": {
        "colab": {
          "base_uri": "https://localhost:8080/"
        },
        "id": "qmYNDSqqkNjY",
        "outputId": "114e77bd-566a-4749-d13b-d7b088f35a8a"
      },
      "execution_count": 42,
      "outputs": [
        {
          "output_type": "stream",
          "name": "stdout",
          "text": [
            "(520.0,)\n"
          ]
        }
      ]
    },
    {
      "cell_type": "markdown",
      "source": [
        "# **ALIASES <p>**\n",
        "Os aliases SQL são usados ​​para fornecer um nome temporário a uma tabela ou coluna em uma tabela. <P>\n",
        "Os aliases são frequentemente usados ​​para tornar os nomes das colunas mais legíveis. <P>\n",
        "Um alias existe apenas durante essa consulta. <P>\n",
        "Um alias é criado com a palavra AS chave."
      ],
      "metadata": {
        "id": "v0KiHpI5lSeS"
      }
    },
    {
      "cell_type": "code",
      "source": [
        "# Verificando\n",
        "Consulta = Cursor.execute(\n",
        "    ''' \n",
        "    SELECT Idade AS Cadastro_clientes FROM Minha_Tabela\n",
        "    '''\n",
        ").fetchall()\n",
        "\n",
        "# Mostrando o retorno\n",
        "print( Consulta )"
      ],
      "metadata": {
        "colab": {
          "base_uri": "https://localhost:8080/"
        },
        "id": "vI__NnwolVMf",
        "outputId": "480cbc0d-b13f-4599-e3a6-6eeb27ed9027"
      },
      "execution_count": 43,
      "outputs": [
        {
          "output_type": "stream",
          "name": "stdout",
          "text": [
            "[(38.0,), (45.0,), (40.0,), (32.0,), (32.0,), (37.0,), (34.0,), (38.0,), (36.0,), (30.0,), (34.0,), (40.0,), (30.0,), (18.0,), (18.0,), (18.0,)]\n"
          ]
        }
      ]
    },
    {
      "cell_type": "markdown",
      "source": [
        " **17. - JOINS <p>**\n",
        "Uma JOIN cláusula é usada para combinar linhas de duas ou mais tabelas, com base em uma coluna relacionada entre elas.\n",
        "\n",
        "Aqui estão os diferentes tipos de JOINs no SQL:\n",
        "\n",
        "1. (INNER) JOIN: Retorna registros que possuem valores correspondentes em ambas as tabelas\n",
        "2. LEFT (OUTER) JOIN: Retorna todos os registros da tabela da esquerda e os registros correspondentes da tabela da direita\n",
        "3. RIGHT (OUTER) JOIN: Retorna todos os registros da tabela da direita e os registros correspondentes da tabela da esquerda\n",
        "4. FULL (OUTER) JOIN: Retorna todos os registros quando há uma correspondência na tabela esquerda ou direita"
      ],
      "metadata": {
        "id": "1HhejvDQmaNp"
      }
    },
    {
      "cell_type": "code",
      "source": [
        "# Criando uma Nova tabela\n",
        "\n",
        "#### --- Dados Cadastrais dos vendedores\n",
        "Consulta = Cursor.execute(\n",
        "    ''' \n",
        "    CREATE TABLE Tab_Cadastro_Vendedor (id real, nome text)\n",
        "    '''\n",
        ")\n",
        "\n",
        "# Criando a tabela\n",
        "Conexao.commit()"
      ],
      "metadata": {
        "id": "8GBD1MiAmcSL"
      },
      "execution_count": null,
      "outputs": []
    },
    {
      "cell_type": "code",
      "source": [
        "# Vendas dos vendedores\n",
        "Cursor.execute( 'INSERT INTO Tab_Cadastro_Vendedor VALUES (1, \"Odemir Depieri Jr\") ' )\n",
        "Cursor.execute( 'INSERT INTO Tab_Cadastro_Vendedor VALUES (2, \"Lucas Calmon\") ' )\n",
        "Cursor.execute( 'INSERT INTO Tab_Cadastro_Vendedor VALUES (3, \"Elidy izidio\") ' )\n",
        "Cursor.execute( 'INSERT INTO Tab_Cadastro_Vendedor VALUES (4, \"Luciene de Menezes\") ' )\n",
        "Cursor.execute( 'INSERT INTO Tab_Cadastro_Vendedor VALUES (5, \"Gildete Euardo\") ' )"
      ],
      "metadata": {
        "colab": {
          "base_uri": "https://localhost:8080/"
        },
        "id": "lFVVm3fzn_iT",
        "outputId": "92293403-e807-4e5d-94e8-4c08c6023c4d"
      },
      "execution_count": 45,
      "outputs": [
        {
          "output_type": "execute_result",
          "data": {
            "text/plain": [
              "<sqlite3.Cursor at 0x7fb5f328edc0>"
            ]
          },
          "metadata": {},
          "execution_count": 45
        }
      ]
    },
    {
      "cell_type": "code",
      "source": [
        "\"\"\"# Criando Mais uma tabela\n",
        "\n",
        "#### --- ID do Vendedor e valor de venda dele\n",
        "Consulta = Cursor.execute(\n",
        "    ''' \n",
        "    CREATE TABLE Tab_Vendas (id real, valor real)\n",
        "    '''\n",
        ")\n",
        "\n",
        "# Criando a tabela\n",
        "Conexao.commit()\"\"\""
      ],
      "metadata": {
        "colab": {
          "base_uri": "https://localhost:8080/",
          "height": 53
        },
        "id": "p5jCxAe7oz6h",
        "outputId": "daeaffa1-c883-42f3-c0bd-e14cec6723da"
      },
      "execution_count": 47,
      "outputs": [
        {
          "output_type": "execute_result",
          "data": {
            "text/plain": [
              "\"# Criando Mais uma tabela\\n\\n#### --- ID do Vendedor e valor de venda dele\\nConsulta = Cursor.execute(\\n    ''' \\n    CREATE TABLE Tab_Vendas (id real, valor real)\\n    '''\\n)\\n\\n# Criando a tabela\\nConexao.commit()\""
            ],
            "application/vnd.google.colaboratory.intrinsic+json": {
              "type": "string"
            }
          },
          "metadata": {},
          "execution_count": 47
        }
      ]
    },
    {
      "cell_type": "code",
      "source": [
        "\"\"\"# Vendas dos vendedores\n",
        "Cursor.execute( 'INSERT INTO Tab_Vendas VALUES (1, 100) ' )\n",
        "Cursor.execute( 'INSERT INTO Tab_Vendas VALUES (2, 200) ' )\n",
        "Cursor.execute( 'INSERT INTO Tab_Vendas VALUES (3, 150) ' )\n",
        "Cursor.execute( 'INSERT INTO Tab_Vendas VALUES (4, 50) ' )\n",
        "Cursor.execute( 'INSERT INTO Tab_Vendas VALUES (5, 200) ' )\n",
        "Cursor.execute( 'INSERT INTO Tab_Vendas VALUES (6, 900) ' )\"\"\""
      ],
      "metadata": {
        "colab": {
          "base_uri": "https://localhost:8080/",
          "height": 70
        },
        "id": "RtEbIUZLpExw",
        "outputId": "b5356a35-13fd-4b2a-e32e-c569cbeb0eab"
      },
      "execution_count": 48,
      "outputs": [
        {
          "output_type": "execute_result",
          "data": {
            "text/plain": [
              "\"# Vendas dos vendedores\\nCursor.execute( 'INSERT INTO Tab_Vendas VALUES (1, 100) ' )\\nCursor.execute( 'INSERT INTO Tab_Vendas VALUES (2, 200) ' )\\nCursor.execute( 'INSERT INTO Tab_Vendas VALUES (3, 150) ' )\\nCursor.execute( 'INSERT INTO Tab_Vendas VALUES (4, 50) ' )\\nCursor.execute( 'INSERT INTO Tab_Vendas VALUES (5, 200) ' )\\nCursor.execute( 'INSERT INTO Tab_Vendas VALUES (6, 900) ' )\""
            ],
            "application/vnd.google.colaboratory.intrinsic+json": {
              "type": "string"
            }
          },
          "metadata": {},
          "execution_count": 48
        }
      ]
    },
    {
      "cell_type": "markdown",
      "source": [
        "**INNER JOIN**"
      ],
      "metadata": {
        "id": "JgnUGbqQpe_G"
      }
    },
    {
      "cell_type": "code",
      "source": [
        "\"\"\"# Unir a Tabela Tab_Vendas com a Tabela Tab_Cadastro_Vendedor (INNER JOIN)\n",
        "Consulta = Cursor.execute(\n",
        "'''\n",
        "SELECT * FROM Tab_Vendas\n",
        "INNER JOIN Tab_Cadastro_Vendedor\n",
        "ON Tab_Vendas.id = Tab_Cadastro_Vendedor.id\n",
        "'''\n",
        ").fetchall()\n",
        "\n",
        "for Linha in Consulta:\n",
        "    print(Linha)\"\"\""
      ],
      "metadata": {
        "colab": {
          "base_uri": "https://localhost:8080/",
          "height": 53
        },
        "id": "uAw-XhY-pekP",
        "outputId": "810bc184-81e5-43b5-d628-3de23c1049ec"
      },
      "execution_count": 49,
      "outputs": [
        {
          "output_type": "execute_result",
          "data": {
            "text/plain": [
              "\"# Unir a Tabela Tab_Vendas com a Tabela Tab_Cadastro_Vendedor (INNER JOIN)\\nConsulta = Cursor.execute(\\n'''\\nSELECT * FROM Tab_Vendas\\nINNER JOIN Tab_Cadastro_Vendedor\\nON Tab_Vendas.id = Tab_Cadastro_Vendedor.id\\n'''\\n).fetchall()\\n\\nfor Linha in Consulta:\\n    print(Linha)\""
            ],
            "application/vnd.google.colaboratory.intrinsic+json": {
              "type": "string"
            }
          },
          "metadata": {},
          "execution_count": 49
        }
      ]
    },
    {
      "cell_type": "markdown",
      "source": [
        "**LEFT JOIN**"
      ],
      "metadata": {
        "id": "kAtkc_a8rJOh"
      }
    },
    {
      "cell_type": "code",
      "source": [
        "Cursor.execute( 'INSERT INTO Tab_Vendas VALUES (8, 9999) ' )"
      ],
      "metadata": {
        "colab": {
          "base_uri": "https://localhost:8080/"
        },
        "id": "5ofoi9JFrTLp",
        "outputId": "507c2a09-a407-43fd-c5ed-2f08b3c3ac96"
      },
      "execution_count": 50,
      "outputs": [
        {
          "output_type": "execute_result",
          "data": {
            "text/plain": [
              "<sqlite3.Cursor at 0x7fb5f328edc0>"
            ]
          },
          "metadata": {},
          "execution_count": 50
        }
      ]
    },
    {
      "cell_type": "code",
      "source": [
        "\"\"\"Consulta = Cursor.execute(\n",
        "    '''\n",
        "    SELECT * FROM Tab_Vendas\n",
        "    LEFT JOIN Tab_Cadastro_Vendedor\n",
        "    ON Tab_vendas.id = Tab_Cadastro_Vendedor.id\n",
        "    '''\n",
        ").fetchall()\n",
        "\n",
        "for Linha in Consulta:\n",
        "    print(Linha)\"\"\""
      ],
      "metadata": {
        "colab": {
          "base_uri": "https://localhost:8080/",
          "height": 53
        },
        "id": "6s3mJtnHrUhD",
        "outputId": "a0cfd2a5-dc52-468b-eb18-6d825d8b8db5"
      },
      "execution_count": 51,
      "outputs": [
        {
          "output_type": "execute_result",
          "data": {
            "text/plain": [
              "\"Consulta = Cursor.execute(\\n    '''\\n    SELECT * FROM Tab_Vendas\\n    LEFT JOIN Tab_Cadastro_Vendedor\\n    ON Tab_vendas.id = Tab_Cadastro_Vendedor.id\\n    '''\\n).fetchall()\\n\\nfor Linha in Consulta:\\n    print(Linha)\""
            ],
            "application/vnd.google.colaboratory.intrinsic+json": {
              "type": "string"
            }
          },
          "metadata": {},
          "execution_count": 51
        }
      ]
    },
    {
      "cell_type": "markdown",
      "source": [
        "# **UNION <p> (CONCATENAR)**\n",
        "O UNION operador é usado para combinar o conjunto de resultados de duas ou mais SELECT instruções.\n",
        "\n",
        "1. Cada SELECT instrução dentro UNION deve ter o mesmo número de colunas\n",
        "2. As colunas também devem ter tipos de dados semelhantes\n",
        "3. As colunas em cada SELECT instrução também devem estar na mesma ordem"
      ],
      "metadata": {
        "id": "fBm9gKmfsyrr"
      }
    },
    {
      "cell_type": "code",
      "source": [
        "\"\"\"# Criar tabelas\n",
        "Cursor.execute(' CREATE TABLE Tabela_X ( Id real, Nome text )')\n",
        "Conexao.commit()\n",
        "\n",
        "Cursor.execute(' CREATE TABLE Tabela_Y ( Id real, Nome text )')\n",
        "Conexao.commit()\"\"\""
      ],
      "metadata": {
        "colab": {
          "base_uri": "https://localhost:8080/",
          "height": 53
        },
        "id": "q8WizLk1s5l6",
        "outputId": "84304538-b5b4-4c39-da98-873aa0ced6b4"
      },
      "execution_count": 53,
      "outputs": [
        {
          "output_type": "execute_result",
          "data": {
            "text/plain": [
              "\"# Criar tabelas\\nCursor.execute(' CREATE TABLE Tabela_X ( Id real, Nome text )')\\nConexao.commit()\\n\\nCursor.execute(' CREATE TABLE Tabela_Y ( Id real, Nome text )')\\nConexao.commit()\""
            ],
            "application/vnd.google.colaboratory.intrinsic+json": {
              "type": "string"
            }
          },
          "metadata": {},
          "execution_count": 53
        }
      ]
    },
    {
      "cell_type": "code",
      "source": [
        "# Inserir valores\n",
        "Cursor.execute(' INSERT INTO Tabela_X VALUES ( 1, \"Elidy\" )')\n",
        "Cursor.execute(' INSERT INTO Tabela_X VALUES ( 2, \"Luciene\" )')\n",
        "Cursor.execute(' INSERT INTO Tabela_X VALUES ( 3, \"Gildete\" )')\n",
        "\n",
        "Cursor.execute(' INSERT INTO Tabela_Y VALUES ( 1, \"Juca\" )')\n",
        "Cursor.execute(' INSERT INTO Tabela_Y VALUES ( 2, \"Rosalvo\" )')\n",
        "Cursor.execute(' INSERT INTO Tabela_Y VALUES ( 3, \"Diego\" )')"
      ],
      "metadata": {
        "id": "xGdUaowwtido"
      },
      "execution_count": null,
      "outputs": []
    },
    {
      "cell_type": "code",
      "source": [
        "# Consultar tabelas\n",
        "Consulta = Cursor.execute(\n",
        "    '''\n",
        "    SELECT * FROM Tabela_X\n",
        "    '''\n",
        ").fetchall()\n",
        "\n",
        "print( Consulta )"
      ],
      "metadata": {
        "id": "8aePHoX7tviz"
      },
      "execution_count": null,
      "outputs": []
    },
    {
      "cell_type": "code",
      "source": [
        "# Consultar tabelas\n",
        "Consulta = Cursor.execute(\n",
        "    '''\n",
        "    SELECT * FROM Tabela_y\n",
        "    '''\n",
        ").fetchall()\n",
        "\n",
        "print( Consulta )"
      ],
      "metadata": {
        "id": "GK_FFMHZt2wm"
      },
      "execution_count": null,
      "outputs": []
    },
    {
      "cell_type": "code",
      "source": [
        "# FAZENDO A UNIÃO DAS TABELAS\n",
        "Consulta = Cursor.execute(\n",
        "    '''\n",
        "    SELECT * FROM Tabela_Y\n",
        "    UNION ALL\n",
        "    SELECT * FROM Tabela_X\n",
        "    '''\n",
        ").fetchall()\n",
        "\n",
        "for Linha in Consulta:\n",
        "  print( Linha )"
      ],
      "metadata": {
        "id": "XigUNIVjt6eA"
      },
      "execution_count": null,
      "outputs": []
    },
    {
      "cell_type": "markdown",
      "source": [
        "# **GROUP BY <p>**\n",
        "A GROUP BY instrução agrupa as linhas que têm os mesmos valores em linhas de resumo, como \"encontre o número de clientes em cada país\".\n",
        "\n",
        "A GROUP BY instrução é frequentemente usada com funções agregadas ( COUNT(), MAX(), MIN(), SUM(), AVG()) para agrupar o conjunto de resultados por uma ou mais colunas."
      ],
      "metadata": {
        "id": "MewBtG59ueBg"
      }
    },
    {
      "cell_type": "code",
      "source": [
        "# Consultando a tabela que vamos trabalhar\n",
        "Consulta = Cursor.execute(\n",
        "    '''\n",
        "    SELECT * FROM Minha_Tabela\n",
        "    '''\n",
        ").fetchall()\n",
        "\n",
        "for Linha in Consulta:\n",
        "  print( Linha )"
      ],
      "metadata": {
        "id": "ohN-puQEukDh"
      },
      "execution_count": null,
      "outputs": []
    },
    {
      "cell_type": "code",
      "source": [
        "# Agrupar e Somar\n",
        "Consulta = Cursor.execute(\n",
        "    '''\n",
        "    SELECT SUM (Idade) FROM Minha_Tabela\n",
        "    GROUP BY Nome\n",
        "    '''\n",
        ").fetchall()\n",
        "\n",
        "for Linhas in Consulta:\n",
        "    print(Linhas)"
      ],
      "metadata": {
        "id": "4TsEzZnguweO"
      },
      "execution_count": null,
      "outputs": []
    },
    {
      "cell_type": "code",
      "source": [
        "# Filtro por valor(nome) specífico\n",
        "Consulta = Cursor.execute(\n",
        "    '''\n",
        "    SELECT SUM (Idade) FROM Minha_Tabela\n",
        "    WHERE Nome = 'Luciene'\n",
        "    GROUP BY Nome\n",
        "    '''\n",
        ").fetchall()\n",
        "\n",
        "for Linhas in Consulta:\n",
        "    print(Linhas)"
      ],
      "metadata": {
        "id": "_G_8GPX3v9PB"
      },
      "execution_count": null,
      "outputs": []
    },
    {
      "cell_type": "code",
      "source": [
        "# Agrupar e Contar\n",
        "Consulta = Cursor.execute(\n",
        "    '''\n",
        "    SELECT COUNT (Idade) FROM Minha_Tabela\n",
        "    GROUP BY Nome\n",
        "    '''\n",
        ").fetchall()\n",
        "\n",
        "for Linhas in Consulta:\n",
        "    print(Linhas)"
      ],
      "metadata": {
        "id": "_5BI9JpFwQ2w"
      },
      "execution_count": null,
      "outputs": []
    },
    {
      "cell_type": "code",
      "source": [
        "# Agrupar e tirar a MAx\n",
        "Consulta = Cursor.execute(\n",
        "    '''\n",
        "    SELECT MAX (Idade) FROM Minha_Tabela\n",
        "    GROUP BY Nome\n",
        "    '''\n",
        ").fetchall()\n",
        "\n",
        "for Linhas in Consulta:\n",
        "    print(Linhas)"
      ],
      "metadata": {
        "id": "wZpZEFFNwlUv"
      },
      "execution_count": null,
      "outputs": []
    },
    {
      "cell_type": "code",
      "source": [
        "# Agrupar e tirar a MIN\n",
        "Consulta = Cursor.execute(\n",
        "    '''\n",
        "    SELECT MIN (Idade) FROM Minha_Tabela\n",
        "    GROUP BY Nome\n",
        "    '''\n",
        ").fetchall()\n",
        "\n",
        "for Linhas in Consulta:\n",
        "    print(Linhas)"
      ],
      "metadata": {
        "id": "0Pc4lF6YwuCr"
      },
      "execution_count": null,
      "outputs": []
    },
    {
      "cell_type": "code",
      "source": [
        "# Agrupar e tirar a Média\n",
        "Consulta = Cursor.execute(\n",
        "    '''\n",
        "    SELECT AVG (Idade) FROM Minha_Tabela\n",
        "    GROUP BY Nome\n",
        "    '''\n",
        ").fetchall()\n",
        "\n",
        "for Linhas in Consulta:\n",
        "    print(Linhas)"
      ],
      "metadata": {
        "id": "1nuAoktewyqX"
      },
      "execution_count": null,
      "outputs": []
    },
    {
      "cell_type": "markdown",
      "source": [
        "# **COMMENTÁRIOS <p>**\n",
        "Os comentários são usados ​​para explicar seções de instruções SQL ou para impedir a execução de instruções SQL."
      ],
      "metadata": {
        "id": "cQSCk2AgxqHu"
      }
    },
    {
      "cell_type": "code",
      "source": [
        "Consulta = Cursor.execute(\n",
        "    '''\n",
        "    -- Comente aqui com '--'\n",
        "    -- Comente aqui com '--'\n",
        "    -- Comente aqui com '--'\n",
        "    -- Comente aqui com '--'\n",
        "    \n",
        "    SELECT * FROM Minha_Tabela\n",
        "    '''\n",
        ").fetchall()\n",
        "\n",
        "for Linha in Consulta:\n",
        "  print( Linha )"
      ],
      "metadata": {
        "id": "L8cLxDZsxyL1"
      },
      "execution_count": null,
      "outputs": []
    },
    {
      "cell_type": "markdown",
      "source": [
        "# **PRIMARY KEY <p>**\n",
        "A PRIMARY KEY restrição identifica exclusivamente cada registro em uma tabela.\n",
        "\n",
        "As chaves primárias devem conter valores UNIQUE e não podem conter valores NULL.\n",
        "\n",
        "Uma tabela pode ter apenas UMA chave primária; e na tabela, essa chave primária pode consistir em uma ou várias colunas (campos)."
      ],
      "metadata": {
        "id": "b8oFb9OwxHDU"
      }
    },
    {
      "cell_type": "code",
      "source": [
        "Cursor.execute(\n",
        "    '''\n",
        "    CREATE TABLE Clientes (\n",
        "    ID int NOT NULL,\n",
        "    Nome varchar(255) NOT NULL,\n",
        "    Sobrenome varchar(255),\n",
        "    Idade int,\n",
        "    PRIMARY KEY (ID)\n",
        ") \n",
        "    '''\n",
        ")\n",
        "Conexao.commit()\n",
        "\n"
      ],
      "metadata": {
        "id": "Ol3vyjjCxUuY"
      },
      "execution_count": null,
      "outputs": []
    },
    {
      "cell_type": "code",
      "source": [
        "# Inserindo valores\n",
        "Cursor.execute(\"INSERT INTO Clientes VALUES (1, 'Aline', 'Maciel',  30)\")\n",
        "Cursor.execute(\"INSERT INTO Clientes VALUES (2, 'Fernanda', 'Maciel',  45)\")\n",
        "Cursor.execute(\"INSERT INTO Clientes VALUES (3, 'Ailton', 'Castilho',  58)\")\n",
        "Cursor.execute(\"INSERT INTO Clientes VALUES (4, 'Luciene', 'Menezes',  46)\")\n",
        "Cursor.execute(\"INSERT INTO Clientes VALUES (5, 'Gildete', 'Eduardo',  58)\")\n",
        "Cursor.execute(\"INSERT INTO Clientes VALUES (6, 'Rosalvo', 'Gonçalves',  54)\")\n",
        "Cursor.execute(\"INSERT INTO Clientes VALUES (7, 'Thayline', 'Coelho',  23)\")\n",
        "Cursor.execute(\"INSERT INTO Clientes VALUES (8, 'Maria', 'Eduarda',  19)\")\n",
        "Cursor.execute(\"INSERT INTO Clientes VALUES (9, 'Elidy', 'Izidio',  38)\")\n",
        "Cursor.execute(\"INSERT INTO Clientes VALUES (10, 'Anne', 'Caroline',  39)\")"
      ],
      "metadata": {
        "id": "r97iv-r8zAjl"
      },
      "execution_count": null,
      "outputs": []
    },
    {
      "cell_type": "code",
      "source": [
        "# Fazendo consulta\n",
        "Cursor.execute( \"SELECT * FROM Clientes\").fetchall()"
      ],
      "metadata": {
        "id": "Ra5F1C4A0w1x"
      },
      "execution_count": null,
      "outputs": []
    }
  ]
}